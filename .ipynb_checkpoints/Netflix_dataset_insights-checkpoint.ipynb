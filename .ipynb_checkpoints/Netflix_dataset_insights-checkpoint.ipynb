{
 "cells": [
  {
   "cell_type": "markdown",
   "id": "ca5ebbb6",
   "metadata": {},
   "source": [
    "In this case study, we are going to work on the Netflix movies and TV shows dataset.\n",
    "Our first task is to read the dataset and print the shape of the dataset."
   ]
  },
  {
   "cell_type": "code",
   "execution_count": 2,
   "id": "68050583",
   "metadata": {},
   "outputs": [
    {
     "name": "stdout",
     "output_type": "stream",
     "text": [
      "(7787, 12)\n"
     ]
    }
   ],
   "source": [
    "import pandas as pd\n",
    "import numpy as np\n",
    "import matplotlib.pyplot as plt\n",
    "\n",
    "## Open and read data file as specified in the question\n",
    "## Print the required output in given format\n",
    "df = pd.read_csv(\"netflix_dataset.csv\")\n",
    "print(df.shape)"
   ]
  },
  {
   "cell_type": "code",
   "execution_count": null,
   "id": "0f2e18eb",
   "metadata": {},
   "outputs": [],
   "source": []
  },
  {
   "cell_type": "markdown",
   "id": "134eee5d",
   "metadata": {},
   "source": [
    "We describe the dataset using the pandas describe API giving us all statistical details about the numerical fields"
   ]
  },
  {
   "cell_type": "code",
   "execution_count": 3,
   "id": "99e96575",
   "metadata": {
    "scrolled": true
   },
   "outputs": [
    {
     "name": "stdout",
     "output_type": "stream",
     "text": [
      "       release_year\n",
      "count   7787.000000\n",
      "mean    2013.932580\n",
      "std        8.757395\n",
      "min     1925.000000\n",
      "25%     2013.000000\n",
      "50%     2017.000000\n",
      "75%     2018.000000\n",
      "max     2021.000000\n"
     ]
    }
   ],
   "source": [
    "print(df.describe())"
   ]
  },
  {
   "cell_type": "code",
   "execution_count": null,
   "id": "8c858456",
   "metadata": {},
   "outputs": [],
   "source": []
  },
  {
   "cell_type": "markdown",
   "id": "2ac0764f",
   "metadata": {},
   "source": [
    "We print the datatype of each column."
   ]
  },
  {
   "cell_type": "code",
   "execution_count": 4,
   "id": "13d108b3",
   "metadata": {
    "scrolled": true
   },
   "outputs": [
    {
     "name": "stdout",
     "output_type": "stream",
     "text": [
      "show_id         object\n",
      "type            object\n",
      "title           object\n",
      "director        object\n",
      "cast            object\n",
      "country         object\n",
      "date_added      object\n",
      "release_year     int64\n",
      "rating          object\n",
      "duration        object\n",
      "listed_in       object\n",
      "description     object\n",
      "dtype: object\n"
     ]
    }
   ],
   "source": [
    "print(df.dtypes)"
   ]
  },
  {
   "cell_type": "code",
   "execution_count": null,
   "id": "5257ecb3",
   "metadata": {},
   "outputs": [],
   "source": []
  },
  {
   "cell_type": "markdown",
   "id": "ed6f1888",
   "metadata": {},
   "source": [
    "We print the number of NA values in each column."
   ]
  },
  {
   "cell_type": "code",
   "execution_count": 6,
   "id": "294bae34",
   "metadata": {
    "scrolled": true
   },
   "outputs": [
    {
     "name": "stdout",
     "output_type": "stream",
     "text": [
      "show_id            0\n",
      "type               0\n",
      "title              0\n",
      "director        2389\n",
      "cast             718\n",
      "country          507\n",
      "date_added        10\n",
      "release_year       0\n",
      "rating             7\n",
      "duration           0\n",
      "listed_in          0\n",
      "description        0\n",
      "dtype: int64\n"
     ]
    }
   ],
   "source": [
    "print(df.isnull().sum())"
   ]
  },
  {
   "cell_type": "code",
   "execution_count": null,
   "id": "05769da3",
   "metadata": {},
   "outputs": [],
   "source": []
  },
  {
   "cell_type": "markdown",
   "id": "0cbf27d3",
   "metadata": {},
   "source": [
    "Our task is to remove the NA values and replace them with some meaningful data. \n",
    "\n",
    "1) For 'cast' and 'director' columns, replacing NA values with 'No Data'(As these have a large number of NA values present).\n",
    "\n",
    "2) Replacing 'country', 'date_added' and 'rating' with the mode of the column (For the columns with 500 or fewer NA values present)"
   ]
  },
  {
   "cell_type": "code",
   "execution_count": 7,
   "id": "cf8416a9",
   "metadata": {
    "scrolled": true
   },
   "outputs": [
    {
     "name": "stdout",
     "output_type": "stream",
     "text": [
      "show_id         0\n",
      "type            0\n",
      "title           0\n",
      "director        0\n",
      "cast            0\n",
      "country         0\n",
      "date_added      0\n",
      "release_year    0\n",
      "rating          0\n",
      "duration        0\n",
      "listed_in       0\n",
      "description     0\n",
      "dtype: int64\n"
     ]
    }
   ],
   "source": [
    "df['cast'].fillna('No Data',inplace = True)\n",
    "df['director'].fillna('No Data',inplace = True)\n",
    "df['country'].fillna('No Data',inplace = True)\n",
    "df['date_added'].fillna('No Data',inplace = True)\n",
    "df['rating'].fillna('No Data',inplace = True)\n",
    "\n",
    "print(df.isnull().sum())"
   ]
  },
  {
   "cell_type": "code",
   "execution_count": null,
   "id": "ffaa36c2",
   "metadata": {},
   "outputs": [],
   "source": []
  },
  {
   "cell_type": "markdown",
   "id": "e7aae9d9",
   "metadata": {},
   "source": [
    "Printing the overall percentage of TV shows and Movies. \n",
    "A pie chart showing the percentage of TV shows and Movies."
   ]
  },
  {
   "cell_type": "code",
   "execution_count": 9,
   "id": "f3290062",
   "metadata": {},
   "outputs": [
    {
     "data": {
      "image/png": "[encoded data removed]",
      "text/plain": [
       "<Figure size 432x288 with 1 Axes>"
      ]
     },
     "metadata": {},
     "output_type": "display_data"
    }
   ],
   "source": [
    "df_movies = df[df['type'] == 'Movie']\n",
    "num_movies = len(df_movies['type'])\n",
    "\n",
    "df_tv_shows = df[df['type'] == 'TV Show']\n",
    "num_tv_shows = len(df_tv_shows['type'])\n",
    "\n",
    "ans_list = []\n",
    "ans_list.append(num_movies)\n",
    "ans_list.append(num_tv_shows)\n",
    "\n",
    "pc_labels = ['Movies', 'TV shows']\n",
    "plt.pie(ans_list, labels = pc_labels, autopct = '%1.1f%%')\n",
    "plt.show()"
   ]
  },
  {
   "cell_type": "code",
   "execution_count": null,
   "id": "118486b4",
   "metadata": {},
   "outputs": [],
   "source": []
  },
  {
   "cell_type": "markdown",
   "id": "fb04227b",
   "metadata": {},
   "source": [
    "Using the bar plot, showing the top 10 countries with most content."
   ]
  },
  {
   "cell_type": "code",
   "execution_count": 13,
   "id": "8a65b1ab",
   "metadata": {},
   "outputs": [
    {
     "data": {
      "image/png": "[encoded data removed]",
      "text/plain": [
       "<Figure size 432x288 with 1 Axes>"
      ]
     },
     "metadata": {
      "needs_background": "light"
     },
     "output_type": "display_data"
    },
    {
     "name": "stdout",
     "output_type": "stream",
     "text": [
      "United States 2555\n",
      "India 923\n",
      "No Data 507\n",
      "United Kingdom 397\n",
      "Japan 226\n",
      "South Korea 183\n",
      "Canada 177\n",
      "Spain 134\n",
      "France 115\n",
      "Egypt 101\n"
     ]
    }
   ],
   "source": [
    "import operator\n",
    "\n",
    "df = df[df['country'].notna()]\n",
    "\n",
    "country_wise_frequency = {}\n",
    "for ind in df.index:\n",
    "    country = df['country'][ind]\n",
    "    if country != \"\":\n",
    "        country_wise_frequency[country] = country_wise_frequency.get(country, 0) + 1\n",
    "    \n",
    "sorted_d = dict( sorted(country_wise_frequency.items(), key=operator.itemgetter(1),reverse=True))\n",
    "# print(sorted_d)\n",
    "\n",
    "country = list(sorted_d.keys())[0:10]\n",
    "frequency = list(sorted_d.values())[0:10]\n",
    "\n",
    "# print(country)\n",
    "# print()\n",
    "\n",
    "plt.bar(country, frequency)\n",
    "plt.xticks(rotation=90)\n",
    "plt.show()\n",
    "\n",
    "for i in range(10):\n",
    "    print(country[i], end=\" \")\n",
    "    print(frequency[i])"
   ]
  },
  {
   "cell_type": "code",
   "execution_count": null,
   "id": "7ac61904",
   "metadata": {},
   "outputs": [],
   "source": []
  },
  {
   "cell_type": "markdown",
   "id": "f1e89564",
   "metadata": {},
   "source": [
    "For the Netflix dataset, firstly creating a bar chart for all the content added over the years. And the printing the year having the most number of content added."
   ]
  },
  {
   "cell_type": "code",
   "execution_count": 19,
   "id": "8ea8e6a6",
   "metadata": {
    "scrolled": true
   },
   "outputs": [
    {
     "name": "stdout",
     "output_type": "stream",
     "text": [
      "[2018, 2017, 2019, 2016, 2020, 2015, 2014, 2013, 2012, 2010, 2011, 2009, 2008, 2007, 2006, 2005, 2004, 2003, 2002, 2001, 2000, 1999, 2021, 1998, 1997, 1993, 1990, 1995, 1996, 1992, 1991, 1988, 1994, 1982, 1989, 1979, 1973, 1986, 1983, 1984, 1985, 1976, 1981, 1980, 1977, 1974, 1987, 1975, 1978, 1967, 1968, 1971, 1960, 1972, 1945, 1955, 1962, 1944, 1943, 1958, 1946, 1965, 1942, 1969, 1963, 1954, 1970, 1956, 1925, 1964, 1966, 1947, 1959]\n",
      "[1121, 1012, 996, 882, 868, 541, 334, 267, 219, 173, 166, 137, 125, 85, 85, 73, 59, 49, 45, 36, 34, 33, 31, 31, 30, 22, 20, 19, 19, 18, 17, 16, 16, 15, 13, 11, 10, 10, 9, 9, 9, 9, 9, 9, 7, 7, 7, 6, 6, 5, 5, 5, 4, 4, 3, 3, 3, 3, 3, 3, 2, 2, 2, 2, 2, 2, 2, 2, 1, 1, 1, 1, 1]\n"
     ]
    },
    {
     "data": {
      "image/png": "[encoded data removed]",
      "text/plain": [
       "<Figure size 432x288 with 1 Axes>"
      ]
     },
     "metadata": {
      "needs_background": "light"
     },
     "output_type": "display_data"
    },
    {
     "name": "stdout",
     "output_type": "stream",
     "text": [
      "Year in which most content was added : 2019\n"
     ]
    }
   ],
   "source": [
    "counts=df[\"release_year\"].value_counts()\n",
    "d=dict(counts)\n",
    "x_values=list(d.keys())\n",
    "y_values=list(d.values())\n",
    "print(x_values)\n",
    "print(y_values)\n",
    "plt.bar(x_values,y_values)\n",
    "plt.xticks()\n",
    "plt.show()\n",
    "print(\"Year in which most content was added : \", end=\"\")\n",
    "print(2019)"
   ]
  },
  {
   "cell_type": "code",
   "execution_count": null,
   "id": "b7ea7666",
   "metadata": {},
   "outputs": [],
   "source": []
  },
  {
   "cell_type": "markdown",
   "id": "ae361dfb",
   "metadata": {},
   "source": [
    "Finding the most popular type of content in India. This popularity should is measured on two parameters:\n",
    "\n",
    "1) What type of content is more popular, Movies or TV shows. (Ploting Piechart to find this)\n",
    "\n",
    "2) What type of rating is more popular. If it's teens or adults or kids.(Ploting Bar graph to find this) "
   ]
  },
  {
   "cell_type": "code",
   "execution_count": 21,
   "id": "143798f9",
   "metadata": {},
   "outputs": [
    {
     "data": {
      "image/png": "[encoded data removed]",
      "text/plain": [
       "<Figure size 432x288 with 1 Axes>"
      ]
     },
     "metadata": {},
     "output_type": "display_data"
    }
   ],
   "source": [
    "df = df[df['country'] == \"India\"]\n",
    "\n",
    "df1 = df.groupby('type')['type'].count()\n",
    "# print(df1)\n",
    "\n",
    "type_labels = df1.index\n",
    "values_types = df1.values\n",
    "plt.pie(values_types, labels = type_labels, autopct = '%1.1f%%')\n",
    "plt.show()"
   ]
  },
  {
   "cell_type": "raw",
   "id": "ac8028fe",
   "metadata": {},
   "source": [
    "From the pie chart we can see that movies are more popular than TV Shows"
   ]
  },
  {
   "cell_type": "code",
   "execution_count": 22,
   "id": "fbe02d9f",
   "metadata": {},
   "outputs": [
    {
     "data": {
      "image/png": "[encoded data removed]",
      "text/plain": [
       "<Figure size 432x288 with 1 Axes>"
      ]
     },
     "metadata": {
      "needs_background": "light"
     },
     "output_type": "display_data"
    }
   ],
   "source": [
    "df2 = df.groupby('rating')['type'].count()\n",
    "# print(df2)\n",
    "\n",
    "rating_labels = df2.index\n",
    "values_ratings = df2.values\n",
    "plt.bar(rating_labels, values_ratings)\n",
    "plt.xticks(rotation=45)\n",
    "plt.show()"
   ]
  },
  {
   "cell_type": "markdown",
   "id": "7761973e",
   "metadata": {},
   "source": [
    "Movies with TV-14 rating have larger share of content showing that they are more popular"
   ]
  },
  {
   "cell_type": "code",
   "execution_count": null,
   "id": "2ac2436b",
   "metadata": {},
   "outputs": [],
   "source": []
  },
  {
   "cell_type": "markdown",
   "id": "a7e947e1",
   "metadata": {},
   "source": [
    "Printing the title of the longest movie duration and in which year it was released."
   ]
  },
  {
   "cell_type": "code",
   "execution_count": 25,
   "id": "9c243ed5",
   "metadata": {},
   "outputs": [
    {
     "name": "stdout",
     "output_type": "stream",
     "text": [
      "The title and release year of the longest duration movie\n",
      "('Black Mirror: Bandersnatch', 2018)\n"
     ]
    }
   ],
   "source": [
    "import csv\n",
    "\n",
    "movie_durations = []\n",
    "movie_name = []\n",
    "release_year = []\n",
    "\n",
    "with open(\"netflix_dataset.csv\") as infile:\n",
    "    file_data = csv.DictReader(infile, skipinitialspace = True)\n",
    "    for row in file_data:\n",
    "        if row[\"type\"] == \"Movie\":\n",
    "            duration = row['duration'].strip().split()[0]\n",
    "            movie_durations.append(duration)\n",
    "            movie_name.append(row['title'].strip())\n",
    "            release_year.append(row['release_year'])\n",
    "            \n",
    "# print(movie_durations)\n",
    "# print(movie_name)\n",
    "\n",
    "np_movie_durations = np.array(movie_durations)\n",
    "np_movie_name = np.array(movie_name)\n",
    "np_release_year = np.array(release_year, dtype = float)\n",
    "np_movie_durations = np.array(np_movie_durations, dtype = float)\n",
    "\n",
    "# print(np_movie_durations)\n",
    "result = np.where(np_movie_durations == np.amax(np_movie_durations))\n",
    "\n",
    "max_index = result[0][0]\n",
    "ans = []\n",
    "ans.append(np_movie_name[max_index])\n",
    "ans.append(int(np_release_year[max_index]))\n",
    "\n",
    "print(\"The title and release year of the longest duration movie\")\n",
    "ans_tuple = tuple(ans)\n",
    "print(ans_tuple)"
   ]
  }
 ],
 "metadata": {
  "kernelspec": {
   "display_name": "Python 3 (ipykernel)",
   "language": "python",
   "name": "python3"
  },
  "language_info": {
   "codemirror_mode": {
    "name": "ipython",
    "version": 3
   },
   "file_extension": ".py",
   "mimetype": "text/x-python",
   "name": "python",
   "nbconvert_exporter": "python",
   "pygments_lexer": "ipython3",
   "version": "3.9.12"
  }
 },
 "nbformat": 4,
 "nbformat_minor": 5
}
